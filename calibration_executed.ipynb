{
 "cells": [
  {
   "cell_type": "code",
   "execution_count": 1,
   "id": "7a114896",
   "metadata": {
    "execution": {
     "iopub.execute_input": "2025-08-31T14:17:50.415015Z",
     "iopub.status.busy": "2025-08-31T14:17:50.414048Z",
     "iopub.status.idle": "2025-08-31T14:18:29.888474Z",
     "shell.execute_reply": "2025-08-31T14:18:29.883172Z"
    }
   },
   "outputs": [
    {
     "name": "stderr",
     "output_type": "stream",
     "text": [
      "WARNING: All log messages before absl::InitializeLog() is called are written to STDERR\n",
      "I0000 00:00:1756649909.787118 2101261 gl_context.cc:369] GL version: 2.1 (2.1 Metal - 89.4), renderer: Apple M4\n"
     ]
    }
   ],
   "source": [
    "import cv2 as cv\n",
    "import pandas as pd\n",
    "import numpy as np\n",
    "import mediapipe as mp\n",
    "\n",
    "mp_pose = mp.solutions.pose\n",
    "pose_detector = mp_pose.Pose(static_image_mode=False, min_detection_confidence=0.9, min_tracking_confidence=0.9)\n",
    "mp_drawing = mp.solutions.drawing_utils\n",
    "\n"
   ]
  },
  {
   "cell_type": "code",
   "execution_count": 2,
   "id": "ca37e7f3",
   "metadata": {
    "execution": {
     "iopub.execute_input": "2025-08-31T14:18:29.941565Z",
     "iopub.status.busy": "2025-08-31T14:18:29.926958Z",
     "iopub.status.idle": "2025-08-31T14:18:30.011396Z",
     "shell.execute_reply": "2025-08-31T14:18:30.010918Z"
    }
   },
   "outputs": [],
   "source": [
    "thresholds_df = pd.read_csv('pose_thresholds.csv')\n"
   ]
  },
  {
   "cell_type": "code",
   "execution_count": 3,
   "id": "4352db3c",
   "metadata": {
    "execution": {
     "iopub.execute_input": "2025-08-31T14:18:30.013497Z",
     "iopub.status.busy": "2025-08-31T14:18:30.013349Z",
     "iopub.status.idle": "2025-08-31T14:18:30.018095Z",
     "shell.execute_reply": "2025-08-31T14:18:30.017836Z"
    }
   },
   "outputs": [],
   "source": [
    "def calculate_angle(a, b, c):\n",
    "    a = np.array(a)\n",
    "    b = np.array(b)\n",
    "    c = np.array(c)\n",
    "    radians = np.arctan2(c[1] - b[1], c[0] - b[0]) - np.arctan2(a[1] - b[1], a[0] - b[0])\n",
    "    angle = np.abs(radians * 180.0 / np.pi)\n",
    "    if angle > 180.0:\n",
    "        angle = 360 - angle\n",
    "    return angle\n"
   ]
  },
  {
   "cell_type": "code",
   "execution_count": 4,
   "id": "6a11c70c",
   "metadata": {
    "execution": {
     "iopub.execute_input": "2025-08-31T14:18:30.021181Z",
     "iopub.status.busy": "2025-08-31T14:18:30.020898Z",
     "iopub.status.idle": "2025-08-31T14:18:30.109647Z",
     "shell.execute_reply": "2025-08-31T14:18:30.107459Z"
    }
   },
   "outputs": [],
   "source": [
    "def run_calibration(pose_to_check):\n",
    "    pose_thresholds = thresholds_df[thresholds_df['pose'] == pose_to_check].set_index('joint')\n",
    "\n",
    "    angle_definitions = {\n",
    "        'left_shoulder_angle': (mp_pose.PoseLandmark.LEFT_HIP, mp_pose.PoseLandmark.LEFT_SHOULDER, mp_pose.PoseLandmark.LEFT_ELBOW),\n",
    "        'left_elbow_angle': (mp_pose.PoseLandmark.LEFT_SHOULDER, mp_pose.PoseLandmark.LEFT_ELBOW, mp_pose.PoseLandmark.LEFT_WRIST),\n",
    "        'right_shoulder_angle': (mp_pose.PoseLandmark.RIGHT_HIP, mp_pose.PoseLandmark.RIGHT_SHOULDER, mp_pose.PoseLandmark.RIGHT_ELBOW),\n",
    "        'right_elbow_angle': (mp_pose.PoseLandmark.RIGHT_SHOULDER, mp_pose.PoseLandmark.RIGHT_ELBOW, mp_pose.PoseLandmark.RIGHT_WRIST),\n",
    "        'left_hip_angle': (mp_pose.PoseLandmark.LEFT_SHOULDER, mp_pose.PoseLandmark.LEFT_HIP, mp_pose.PoseLandmark.LEFT_KNEE),\n",
    "        'left_knee_angle': (mp_pose.PoseLandmark.LEFT_HIP, mp_pose.PoseLandmark.LEFT_KNEE, mp_pose.PoseLandmark.LEFT_ANKLE),\n",
    "        'right_hip_angle': (mp_pose.PoseLandmark.RIGHT_SHOULDER, mp_pose.PoseLandmark.RIGHT_HIP, mp_pose.PoseLandmark.RIGHT_KNEE),\n",
    "        'right_knee_angle': (mp_pose.PoseLandmark.RIGHT_HIP, mp_pose.PoseLandmark.RIGHT_KNEE, mp_pose.PoseLandmark.RIGHT_ANKLE)\n",
    "    }\n",
    "    \n",
    "    GREEN = (0, 255, 0)\n",
    "    RED = (0, 0, 255)\n",
    "    BLUE = (255, 0, 0)\n",
    "\n",
    "    cap = cv.VideoCapture(0)\n",
    "    if not cap.isOpened():\n",
    "            return\n",
    "\n",
    "    while cap.isOpened():\n",
    "        success, frame = cap.read()\n",
    "        if not success:\n",
    "            break\n",
    "        image = frame\n",
    "        image = cv.flip(image, 1)\n",
    "        image_rgb = cv.cvtColor(image, cv.COLOR_BGR2RGB)\n",
    "        results = pose_detector.process(image_rgb)\n",
    "        image = cv.cvtColor(image_rgb, cv.COLOR_RGB2BGR)\n",
    "        \n",
    "        if results.pose_landmarks:\n",
    "            landmarks = results.pose_landmarks.landmark\n",
    "            \n",
    "            mp_drawing.draw_landmarks(\n",
    "                image,\n",
    "                results.pose_landmarks,\n",
    "                mp_pose.POSE_CONNECTIONS)\n",
    "\n",
    "            for joint_name, row in pose_thresholds.iterrows():\n",
    "                if (pose_to_check == \"Warrior ii pose\" and \"knee\" in joint_name) or \\\n",
    "                   (pose_to_check == \"Vrksasana\" and (\"knee\" in joint_name or \"elbow\" in joint_name)):\n",
    "                    continue\n",
    "\n",
    "                if joint_name in angle_definitions:\n",
    "                        p1_enum, p2_enum, p3_enum = angle_definitions[joint_name]\n",
    "                        p1 = [landmarks[p1_enum.value].x, landmarks[p1_enum.value].y]\n",
    "                        p2 = [landmarks[p2_enum.value].x, landmarks[p2_enum.value].y] \n",
    "                        p3 = [landmarks[p3_enum.value].x, landmarks[p3_enum.value].y]\n",
    "                        \n",
    "                        current_angle = calculate_angle(p1, p2, p3)\n",
    "                        min_angle = row['min_angle']\n",
    "                        max_angle = row['max_angle']\n",
    "                        joint_coords = tuple(np.multiply(p2, [image.shape[1], image.shape[0]]).astype(int))\n",
    "                        \n",
    "                        color = GREEN if min_angle <= current_angle <= max_angle else RED\n",
    "                        cv.putText(image, f\"{int(current_angle)}\", (joint_coords[0], joint_coords[1] - 20), cv.FONT_HERSHEY_SIMPLEX, 0.7, color, 2, cv.LINE_AA)\n",
    "                        cv.circle(image, joint_coords, 10, color, -1)\n",
    "               \n",
    "\n",
    "            if pose_to_check == \"Warrior ii pose\":\n",
    "                try:\n",
    "                    BENT_KNEE_RANGE = (85, 135)\n",
    "                    STRAIGHT_KNEE_RANGE = (165, 180)\n",
    "                    left_knee_angle = calculate_angle([landmarks[mp_pose.PoseLandmark.LEFT_HIP.value].x, landmarks[mp_pose.PoseLandmark.LEFT_HIP.value].y], [landmarks[mp_pose.PoseLandmark.LEFT_KNEE.value].x, landmarks[mp_pose.PoseLandmark.LEFT_KNEE.value].y], [landmarks[mp_pose.PoseLandmark.LEFT_ANKLE.value].x, landmarks[mp_pose.PoseLandmark.LEFT_ANKLE.value].y])\n",
    "                    right_knee_angle = calculate_angle([landmarks[mp_pose.PoseLandmark.RIGHT_HIP.value].x, landmarks[mp_pose.PoseLandmark.RIGHT_HIP.value].y], [landmarks[mp_pose.PoseLandmark.RIGHT_KNEE.value].x, landmarks[mp_pose.PoseLandmark.RIGHT_KNEE.value].y], [landmarks[mp_pose.PoseLandmark.RIGHT_ANKLE.value].x, landmarks[mp_pose.PoseLandmark.RIGHT_ANKLE.value].y])\n",
    "                    \n",
    "                    if left_knee_angle < right_knee_angle:\n",
    "                        left_correct = BENT_KNEE_RANGE[0] <= left_knee_angle <= BENT_KNEE_RANGE[1]\n",
    "                        right_correct = STRAIGHT_KNEE_RANGE[0] <= right_knee_angle <= STRAIGHT_KNEE_RANGE[1]\n",
    "                    else:\n",
    "                        left_correct = STRAIGHT_KNEE_RANGE[0] <= left_knee_angle <= STRAIGHT_KNEE_RANGE[1]\n",
    "                        right_correct = BENT_KNEE_RANGE[0] <= right_knee_angle <= BENT_KNEE_RANGE[1]\n",
    "                    \n",
    "                    lk_coords = tuple(np.multiply([landmarks[mp_pose.PoseLandmark.LEFT_KNEE.value].x, landmarks[mp_pose.PoseLandmark.LEFT_KNEE.value].y], [image.shape[1], image.shape[0]]).astype(int))\n",
    "                    rk_coords = tuple(np.multiply([landmarks[mp_pose.PoseLandmark.RIGHT_KNEE.value].x, landmarks[mp_pose.PoseLandmark.RIGHT_KNEE.value].y], [image.shape[1], image.shape[0]]).astype(int))\n",
    "                    lk_color = GREEN if left_correct else RED\n",
    "                    rk_color = GREEN if right_correct else RED\n",
    "\n",
    "                    cv.circle(image, lk_coords, 10, lk_color, -1)\n",
    "                    cv.putText(image, f\"{int(left_knee_angle)}\", (lk_coords[0], lk_coords[1] - 20), cv.FONT_HERSHEY_SIMPLEX, 0.7, lk_color, 2, cv.LINE_AA)\n",
    "                    cv.circle(image, rk_coords, 10, rk_color, -1)\n",
    "                    cv.putText(image, f\"{int(right_knee_angle)}\", (rk_coords[0], rk_coords[1] - 20), cv.FONT_HERSHEY_SIMPLEX, 0.7, rk_color, 2, cv.LINE_AA)\n",
    "                except:\n",
    "                    pass\n",
    "            \n",
    "            if pose_to_check == \"Vrksasana\":\n",
    "                    BENT_ELBOW_RANGE_TREE = (60, 120)\n",
    "                    left_elbow_angle = calculate_angle([landmarks[mp_pose.PoseLandmark.LEFT_SHOULDER.value].x, landmarks[mp_pose.PoseLandmark.LEFT_SHOULDER.value].y], [landmarks[mp_pose.PoseLandmark.LEFT_ELBOW.value].x, landmarks[mp_pose.PoseLandmark.LEFT_ELBOW.value].y], [landmarks[mp_pose.PoseLandmark.LEFT_WRIST.value].x, landmarks[mp_pose.PoseLandmark.LEFT_WRIST.value].y])\n",
    "                    right_elbow_angle = calculate_angle([landmarks[mp_pose.PoseLandmark.RIGHT_SHOULDER.value].x, landmarks[mp_pose.PoseLandmark.RIGHT_SHOULDER.value].y], [landmarks[mp_pose.PoseLandmark.RIGHT_ELBOW.value].x, landmarks[mp_pose.PoseLandmark.RIGHT_ELBOW.value].y], [landmarks[mp_pose.PoseLandmark.RIGHT_WRIST.value].x, landmarks[mp_pose.PoseLandmark.RIGHT_WRIST.value].y])\n",
    "                    left_elbow_correct = BENT_ELBOW_RANGE_TREE[0] <= left_elbow_angle <= BENT_ELBOW_RANGE_TREE[1]\n",
    "                    right_elbow_correct = BENT_ELBOW_RANGE_TREE[0] <= right_elbow_angle <= BENT_ELBOW_RANGE_TREE[1]\n",
    "                    le_coords = tuple(np.multiply([landmarks[mp_pose.PoseLandmark.LEFT_ELBOW.value].x, landmarks[mp_pose.PoseLandmark.LEFT_ELBOW.value].y], [image.shape[1], image.shape[0]]).astype(int))\n",
    "                    re_coords = tuple(np.multiply([landmarks[mp_pose.PoseLandmark.RIGHT_ELBOW.value].x, landmarks[mp_pose.PoseLandmark.RIGHT_ELBOW.value].y], [image.shape[1], image.shape[0]]).astype(int))\n",
    "                    le_color = GREEN if left_elbow_correct else RED\n",
    "                    re_color = GREEN if right_elbow_correct else RED\n",
    "                    cv.circle(image, le_coords, 10, le_color, -1)\n",
    "                    cv.circle(image, re_coords, 10, re_color, -1)\n",
    "\n",
    "                    BENT_KNEE_RANGE_TREE = (30, 100)\n",
    "                    STRAIGHT_KNEE_RANGE_TREE = (165, 180)\n",
    "                    left_knee_angle = calculate_angle([landmarks[mp_pose.PoseLandmark.LEFT_HIP.value].x, landmarks[mp_pose.PoseLandmark.LEFT_HIP.value].y], [landmarks[mp_pose.PoseLandmark.LEFT_KNEE.value].x, landmarks[mp_pose.PoseLandmark.LEFT_KNEE.value].y], [landmarks[mp_pose.PoseLandmark.LEFT_ANKLE.value].x, landmarks[mp_pose.PoseLandmark.LEFT_ANKLE.value].y])\n",
    "                    right_knee_angle = calculate_angle([landmarks[mp_pose.PoseLandmark.RIGHT_HIP.value].x, landmarks[mp_pose.PoseLandmark.RIGHT_HIP.value].y], [landmarks[mp_pose.PoseLandmark.RIGHT_KNEE.value].x, landmarks[mp_pose.PoseLandmark.RIGHT_KNEE.value].y], [landmarks[mp_pose.PoseLandmark.RIGHT_ANKLE.value].x, landmarks[mp_pose.PoseLandmark.RIGHT_ANKLE.value].y])\n",
    "                    \n",
    "                    if landmarks[mp_pose.PoseLandmark.LEFT_ANKLE.value].y < landmarks[mp_pose.PoseLandmark.RIGHT_ANKLE.value].y:\n",
    "                        left_knee_correct = BENT_KNEE_RANGE_TREE[0] <= left_knee_angle <= BENT_KNEE_RANGE_TREE[1]\n",
    "                        right_knee_correct = STRAIGHT_KNEE_RANGE_TREE[0] <= right_knee_angle <= STRAIGHT_KNEE_RANGE_TREE[1]\n",
    "                    else:\n",
    "                        left_knee_correct = STRAIGHT_KNEE_RANGE_TREE[0] <= left_knee_angle <= STRAIGHT_KNEE_RANGE_TREE[1]\n",
    "                        right_knee_correct = BENT_KNEE_RANGE_TREE[0] <= right_knee_angle <= BENT_KNEE_RANGE_TREE[1]\n",
    "                    \n",
    "                    lk_coords = tuple(np.multiply([landmarks[mp_pose.PoseLandmark.LEFT_KNEE.value].x, landmarks[mp_pose.PoseLandmark.LEFT_KNEE.value].y], [image.shape[1], image.shape[0]]).astype(int))\n",
    "                    rk_coords = tuple(np.multiply([landmarks[mp_pose.PoseLandmark.RIGHT_KNEE.value].x, landmarks[mp_pose.PoseLandmark.RIGHT_KNEE.value].y], [image.shape[1], image.shape[0]]).astype(int))\n",
    "                    lk_color = GREEN if left_knee_correct else RED\n",
    "                    rk_color = GREEN if right_knee_correct else RED\n",
    "                    \n",
    "                    cv.circle(image, lk_coords, 10, lk_color, -1)\n",
    "                    cv.circle(image, rk_coords, 10, rk_color, -1)\n",
    "\n",
    "        cv.putText(image, f\"Checking Pose: {pose_to_check}\", (10, 30), cv.FONT_HERSHEY_SIMPLEX, 1, BLUE, 2, cv.LINE_AA)\n",
    "        cv.imshow('MediaPipe Pose Correction', image)\n",
    "\n",
    "        if cv.waitKey(5) & 0xFF == 27: \n",
    "            break\n",
    "            \n",
    "    cap.release()\n",
    "    cv.destroyAllWindows()"
   ]
  },
  {
   "cell_type": "code",
   "execution_count": 5,
   "id": "ce33c803",
   "metadata": {
    "execution": {
     "iopub.execute_input": "2025-08-31T14:18:30.115278Z",
     "iopub.status.busy": "2025-08-31T14:18:30.115056Z",
     "iopub.status.idle": "2025-08-31T14:53:19.525990Z",
     "shell.execute_reply": "2025-08-31T14:53:19.479476Z"
    }
   },
   "outputs": [
    {
     "name": "stderr",
     "output_type": "stream",
     "text": [
      "W0000 00:00:1756649910.130251 2103559 inference_feedback_manager.cc:114] Feedback manager requires a model with a single signature inference. Disabling support for feedback tensors.\n",
      "W0000 00:00:1756649910.174299 2103562 inference_feedback_manager.cc:114] Feedback manager requires a model with a single signature inference. Disabling support for feedback tensors.\n"
     ]
    },
    {
     "name": "stderr",
     "output_type": "stream",
     "text": [
      "W0000 00:00:1756649917.213853 2103558 landmark_projection_calculator.cc:186] Using NORM_RECT without IMAGE_DIMENSIONS is only supported for the square ROI. Provide IMAGE_DIMENSIONS or use PROJECTION_MATRIX.\n"
     ]
    }
   ],
   "source": [
    "POSE_TO_CHECK = \"Dandasana\" \n",
    "    \n",
    "run_calibration(POSE_TO_CHECK)"
   ]
  },
  {
   "cell_type": "code",
   "execution_count": null,
   "id": "8e711a78",
   "metadata": {},
   "outputs": [],
   "source": []
  }
 ],
 "metadata": {
  "kernelspec": {
   "display_name": "yoga",
   "language": "python",
   "name": "python3"
  },
  "language_info": {
   "codemirror_mode": {
    "name": "ipython",
    "version": 3
   },
   "file_extension": ".py",
   "mimetype": "text/x-python",
   "name": "python",
   "nbconvert_exporter": "python",
   "pygments_lexer": "ipython3",
   "version": "3.10.13"
  }
 },
 "nbformat": 4,
 "nbformat_minor": 5
}
